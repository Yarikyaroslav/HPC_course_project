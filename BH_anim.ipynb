{
 "cells": [
  {
   "cell_type": "code",
   "execution_count": 2,
   "id": "227911b6-bbfc-4553-9cc8-cd6791d08d23",
   "metadata": {},
   "outputs": [],
   "source": [
    "import matplotlib.pyplot as plt\n",
    "import numpy as np\n",
    "import glob\n",
    "from PIL import Image\n",
    "\n",
    "def load_positions(filename):\n",
    "    data = np.loadtxt(filename)\n",
    "    return data[:, 0], data[:, 1]\n",
    "\n",
    "# Generate a list of filenames sorted by step number\n",
    "filenames = sorted(glob.glob(\"output_*.txt\"), key=lambda x: int(x.split('_')[1].split('.')[0]))\n",
    "\n",
    "def create_frame(filename, frame_number):\n",
    "    x, y = load_positions(filename)\n",
    "    fig, ax = plt.subplots()\n",
    "    ax.set_xlim(-7.5, 7.5)\n",
    "    ax.set_ylim(-7.5, 7.5)\n",
    "    plt.scatter(x[:-2],y[:-2], s=5)\n",
    "    plt.scatter(x[-2], y[-2], s=35, color='red')\n",
    "    plt.scatter(x[-1], y[-1], s=35, color='red')\n",
    "    plt.gca().set_aspect('equal', adjustable='box')\n",
    "    plt.title(f\"Frame {frame_number}\")\n",
    "    plt.savefig(f\"frame_{frame_number}.png\")\n",
    "    plt.close()\n",
    "\n",
    "# Generate frames\n",
    "for i, filename in enumerate(filenames):\n",
    "    create_frame(filename, i)\n",
    "\n",
    "# Create a GIF\n",
    "frames = []\n",
    "for i in range(len(filenames)):\n",
    "    frame = Image.open(f\"frame_{i}.png\")\n",
    "    frames.append(frame)\n",
    "\n",
    "frames[0].save('BHsimulation.gif', format='GIF', append_images=frames[1:], save_all=True, duration=100, loop=0)\n",
    "\n",
    "# Clean up individual frames (optional)\n",
    "import os\n",
    "for i in range(len(filenames)):\n",
    "    os.remove(f\"frame_{i}.png\")\n"
   ]
  },
  {
   "cell_type": "code",
   "execution_count": null,
   "id": "e4f495e7-8795-4a49-8421-fda46db906cd",
   "metadata": {},
   "outputs": [],
   "source": []
  }
 ],
 "metadata": {
  "kernelspec": {
   "display_name": "Python 3 (ipykernel)",
   "language": "python",
   "name": "python3"
  },
  "language_info": {
   "codemirror_mode": {
    "name": "ipython",
    "version": 3
   },
   "file_extension": ".py",
   "mimetype": "text/x-python",
   "name": "python",
   "nbconvert_exporter": "python",
   "pygments_lexer": "ipython3",
   "version": "3.11.6"
  }
 },
 "nbformat": 4,
 "nbformat_minor": 5
}
